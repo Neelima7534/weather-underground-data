{
 "cells": [
  {
   "cell_type": "code",
   "execution_count": null,
   "metadata": {
    "collapsed": false
   },
   "outputs": [],
   "source": [
    "# ============================================================================================\n",
    "# Kassio Machado - GNU Public License - 2016-05-22\n",
    "# PhD candidate on Science Computing - UFMG/Brazil\n",
    "# Jupyter Notebook to collect data from Weather Underground API\n",
    "# Require accounts for authentication\n",
    "# ============================================================================================ \n",
    "import time\n",
    "import json\n",
    "import urllib2\n",
    "import pymongo\n",
    "import colorama\n",
    "import datetime\n",
    "from tqdm import tqdm_notebook as tqdm\n",
    "from pymongo import MongoClient\n",
    "info = '[INFO]'\n",
    "print info, 'Initializing the Modules: [OK]' "
   ]
  },
  {
   "cell_type": "code",
   "execution_count": null,
   "metadata": {
    "collapsed": false
   },
   "outputs": [],
   "source": [
    "# environment variables\n",
    "selectedCities = [('new-york', 'NY', 'New_York'), ('los-angeles', 'CA', 'Los_Angeles'), \n",
    "                  ('chicago', 'IL', 'Chicago'), ('london', 'England', 'London'), \n",
    "                  ('paris', 'France', 'Paris'), ('berlin', 'Germany', 'Berlin')]\n",
    "authKeys = ['1', '2', '3']\n",
    "\n",
    "# database parameters\n",
    "dbPass = 'npng'\n",
    "dbLogin = 'leokassio'\n",
    "dbAuthentication = 'admin'\n",
    "dbaddress = 'localhost'\n",
    "dateBegin = datetime.datetime.strptime('2015-01-01 00:00:00', '%Y-%m-%d %H:%M:%S')\n",
    "dateEnd = datetime.datetime.strptime('2015-12-31 23:59:59', '%Y-%m-%d %H:%M:%S')\n",
    "dateWuFormat = '%Y%m%d'\n",
    "dateFormat = '%Y-%m-%d'\n",
    "dateTimeFormat = '%Y-%m-%d %H:00:00'\n",
    "print info, 'Defining variables: [OK]'"
   ]
  },
  {
   "cell_type": "code",
   "execution_count": null,
   "metadata": {
    "collapsed": false
   },
   "outputs": [],
   "source": [
    "# database connection\n",
    "con = MongoClient(dbaddress)\n",
    "con.sensing_layers.authenticate(dbLogin, dbPass, source=dbAuthentication)\n",
    "database = con.sensing_layers\n",
    "wunderground = database.weather_underground\n",
    "print info, 'Connecting database: [OK]'"
   ]
  },
  {
   "cell_type": "code",
   "execution_count": null,
   "metadata": {
    "collapsed": false,
    "scrolled": false
   },
   "outputs": [],
   "source": [
    "lastPrint = None\n",
    "keyAuthIndex = 3\n",
    "keyAuth = authKeys[keyAuthIndex]\n",
    "cityName, majorWuIndex, minorWuIndex = selectedCities[0]\n",
    "dateRequest = dateBegin\n",
    "nDays = (dateEnd - dateBegin).days\n",
    "\n",
    "print info, 'Please Check Starting Date and Authorization Key'\n",
    "print info, cityName, 'DateBegin:', dateRequest.strftime(dateTimeFormat), 'KeyAuth:', keyAuthIndex, keyAuth\n",
    "ans = raw_input('Press any key to continue >>')\n",
    "if ans != '':\n",
    "    exit()       \n",
    "    \n",
    "while dateRequest <= dateEnd:\n",
    "    dateKey = dateRequest.strftime(dateWuFormat)\n",
    "    url = 'http://api.wunderground.com/api/'\n",
    "    url += keyAuth + '/history_' + dateKey\n",
    "    url += '/q/' + majorWuIndex + '/' + minorWuIndex + '.json'\n",
    "    weekNumber = dateRequest.isocalendar()[1]\n",
    "    if lastPrint != weekNumber:\n",
    "        lastPrint = weekNumber\n",
    "        print 'Fetching:', url\n",
    "    try:\n",
    "        f = urllib2.urlopen(url) \n",
    "        json_string = f.read()\n",
    "        parsed_json = json.loads(json_string)\n",
    "    except Exception, e:\n",
    "        print info, 'Error on Fetching WUnderground API'\n",
    "        print str(e)\n",
    "        time.sleep(60)\n",
    "        continue\n",
    "        \n",
    "    try:\n",
    "        dateStr = parsed_json['history']['date']['pretty']\n",
    "        observations = parsed_json['history']['observations']\n",
    "        for observ in observations:\n",
    "            d = datetime.datetime(year=int(observ['date']['year']), month=int(observ['date']['mon']),\n",
    "                                  day=int(observ['date']['mday']), hour=int(observ['date']['hour']), \n",
    "                                  minute=int(observ['date']['min']), second=0)\n",
    "            observ['date_key'] = d.strftime(dateFormat)\n",
    "            observ['date_time_key'] = d.strftime(dateTimeFormat)\n",
    "            observ['date_original'] = observ['date']\n",
    "            observ['date_local'] = d\n",
    "            observ['tempm'] = observ['tempm']\n",
    "            observ['city'] = cityName\n",
    "            del observ['date']\n",
    "            del observ['utcdate']\n",
    "            del observ['metar']\n",
    "            uid = wunderground.insert_one(observ)\n",
    "    except KeyError, e:\n",
    "        print info, 'Error on Processing JSON file - probably API limit'\n",
    "        print str(e)\n",
    "        time.sleep(60)\n",
    "    time.sleep(7)\n",
    "    dateRequest  = dateRequest + datetime.timedelta(days=1)\n",
    "        "
   ]
  }
 ],
 "metadata": {
  "kernelspec": {
   "display_name": "Python 2",
   "language": "python",
   "name": "python2"
  },
  "language_info": {
   "codemirror_mode": {
    "name": "ipython",
    "version": 2
   },
   "file_extension": ".py",
   "mimetype": "text/x-python",
   "name": "python",
   "nbconvert_exporter": "python",
   "pygments_lexer": "ipython2",
   "version": "2.7.12"
  }
 },
 "nbformat": 4,
 "nbformat_minor": 0
}
